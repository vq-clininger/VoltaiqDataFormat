{
 "cells": [
  {
   "cell_type": "markdown",
   "id": "97dddd14-4876-4cbb-a693-18519d0fba7e",
   "metadata": {},
   "source": [
    "# HDF5 to VDF"
   ]
  },
  {
   "cell_type": "markdown",
   "id": "a23b31e7-8e31-4f6c-a8ee-6f25c29242da",
   "metadata": {},
   "source": [
    "## Converting the File"
   ]
  },
  {
   "cell_type": "code",
   "execution_count": 1,
   "id": "f37ace88-4752-433e-ae27-1db0b07d0406",
   "metadata": {},
   "outputs": [],
   "source": [
    "# import the generic munger\n",
    "from util.HDF5_vdf_convert import GenericVDFConverter"
   ]
  },
  {
   "cell_type": "code",
   "execution_count": 2,
   "id": "ff37d46f",
   "metadata": {},
   "outputs": [],
   "source": [
    "#Import necessary packages for HDF5\n",
    "import h5py\n",
    "import numpy as np\n",
    "import pandas as pd\n",
    "import os\n",
    "from batdata.data import BatteryDataset\n",
    "import yaml\n",
    "import pprint"
   ]
  },
  {
   "cell_type": "code",
   "execution_count": 5,
   "id": "68465691",
   "metadata": {},
   "outputs": [
    {
     "name": "stdout",
     "output_type": "stream",
     "text": [
      "Reading in data...\n",
      "Formatting data...\n",
      "Updating header dictionary...\n",
      "Adding units...\n"
     ]
    },
    {
     "name": "stderr",
     "output_type": "stream",
     "text": [
      "/Users/evasabine/opt/anaconda3/lib/python3.9/site-packages/pandas/core/base.py:1055: FutureWarning: In a future version, the Index constructor will not infer numeric dtypes when passed object-dtype sequences (matching Series behavior)\n",
      "  return Index(self).is_monotonic\n"
     ]
    },
    {
     "name": "stdout",
     "output_type": "stream",
     "text": [
      "Completed generation of VDF file at path: sample_files/VDF/example_HDF5_VDF.csv\n",
      "file deleted\n"
     ]
    }
   ],
   "source": [
    "#For single file conversion\n",
    "file_path='sample_files/example_HDF5.h5'\n",
    "config_path='example_HDF5_config.yaml'\n",
    "dataset=BatteryDataset.from_batdata_hdf(file_path)\n",
    "#BatteryDataset.get_metadata_from_hdf5(file_path)\n",
    "title=file_path.replace('.h5','.csv')\n",
    "dataset.raw_data.to_csv(title, sep='\\t')\n",
    "converter = GenericVDFConverter(title, config_path)\n",
    "converter.convert()\n",
    "if(os.path.exists(title) and os.path.isfile(title)):\n",
    "    os.remove(title)\n",
    "    print(\"file deleted\")\n",
    "else:\n",
    "    print(\"file not found\")"
   ]
  },
  {
   "cell_type": "code",
   "execution_count": 7,
   "id": "018db0a1",
   "metadata": {},
   "outputs": [
    {
     "name": "stdout",
     "output_type": "stream",
     "text": [
      "{'columns': {'current': {'rename': 'Current', 'unit': 'amp'},\n",
      "             'cycle_number': {'rename': 'Cycle Number'},\n",
      "             'method': {'rename': 'Method'},\n",
      "             'state': {'rename': 'State'},\n",
      "             'step_index': {'rename': 'Step Index'},\n",
      "             'substep_index': {'rename': 'Substep Index'},\n",
      "             'test_time': {'rename': 'Test Time', 'unit': 'second'},\n",
      "             'voltage': {'rename': 'Potential', 'unit': 'volt'}},\n",
      " 'metadata': {'Start Time': '2012-03-28T18:40:00',\n",
      "              'Timezone': 'America/Chicago'}}\n",
      "Reading in data...\n",
      "Formatting data...\n",
      "Updating header dictionary...\n",
      "Adding units...\n"
     ]
    },
    {
     "name": "stderr",
     "output_type": "stream",
     "text": [
      "/Users/evasabine/opt/anaconda3/lib/python3.9/site-packages/pandas/core/base.py:1055: FutureWarning: In a future version, the Index constructor will not infer numeric dtypes when passed object-dtype sequences (matching Series behavior)\n",
      "  return Index(self).is_monotonic\n"
     ]
    },
    {
     "name": "stdout",
     "output_type": "stream",
     "text": [
      "Completed generation of VDF file at path: sample_files/VDF/example_HDF5_VDF.csv\n",
      "{'columns': {'current': {'rename': 'Current', 'unit': 'amp'},\n",
      "             'cycle_number': {'rename': 'Cycle Number'},\n",
      "             'method': {'rename': 'Method'},\n",
      "             'state': {'rename': 'State'},\n",
      "             'step_index': {'rename': 'Step Index'},\n",
      "             'substep_index': {'rename': 'Substep Index'},\n",
      "             'test_time': {'rename': 'Test Time', 'unit': 'second'},\n",
      "             'voltage': {'rename': 'Potential', 'unit': 'volt'}},\n",
      " 'metadata': {'Start Time': '2012-01-31T17:13:20',\n",
      "              'Timezone': 'America/Chicago'}}\n",
      "Reading in data...\n",
      "Formatting data...\n",
      "Updating header dictionary...\n",
      "Adding units...\n"
     ]
    },
    {
     "name": "stderr",
     "output_type": "stream",
     "text": [
      "/Users/evasabine/opt/anaconda3/lib/python3.9/site-packages/pandas/core/base.py:1055: FutureWarning: In a future version, the Index constructor will not infer numeric dtypes when passed object-dtype sequences (matching Series behavior)\n",
      "  return Index(self).is_monotonic\n"
     ]
    },
    {
     "name": "stdout",
     "output_type": "stream",
     "text": [
      "Completed generation of VDF file at path: sample_files/VDF/example1_HDF5_VDF.csv\n"
     ]
    },
    {
     "ename": "TypeError",
     "evalue": "can only concatenate str (not \"float\") to str",
     "output_type": "error",
     "traceback": [
      "\u001b[0;31m---------------------------------------------------------------------------\u001b[0m",
      "\u001b[0;31mTypeError\u001b[0m                                 Traceback (most recent call last)",
      "Input \u001b[0;32mIn [7]\u001b[0m, in \u001b[0;36m<cell line: 7>\u001b[0;34m()\u001b[0m\n\u001b[1;32m      6\u001b[0m array\u001b[38;5;241m=\u001b[39mname_and_time[\u001b[38;5;124m'\u001b[39m\u001b[38;5;124mDatetime\u001b[39m\u001b[38;5;124m'\u001b[39m]\n\u001b[1;32m      7\u001b[0m \u001b[38;5;28;01mfor\u001b[39;00m i \u001b[38;5;129;01min\u001b[39;00m \u001b[38;5;28mrange\u001b[39m(\u001b[38;5;241m0\u001b[39m,\u001b[38;5;241m299\u001b[39m):\n\u001b[0;32m----> 8\u001b[0m     file_path\u001b[38;5;241m=\u001b[39m\u001b[38;5;124;43m'\u001b[39;49m\u001b[38;5;124;43msample_files/\u001b[39;49m\u001b[38;5;124;43m'\u001b[39;49m\u001b[38;5;241;43m+\u001b[39;49m\u001b[43mname_and_time\u001b[49m\u001b[43m[\u001b[49m\u001b[38;5;124;43m'\u001b[39;49m\u001b[38;5;124;43mFile Name\u001b[39;49m\u001b[38;5;124;43m'\u001b[39;49m\u001b[43m]\u001b[49m\u001b[38;5;241;43m.\u001b[39;49m\u001b[43miloc\u001b[49m\u001b[43m[\u001b[49m\u001b[43mi\u001b[49m\u001b[43m]\u001b[49m\n\u001b[1;32m      9\u001b[0m     dataset\u001b[38;5;241m=\u001b[39mBatteryDataset\u001b[38;5;241m.\u001b[39mfrom_batdata_hdf(file_path)\n\u001b[1;32m     10\u001b[0m     title\u001b[38;5;241m=\u001b[39mfile_path\u001b[38;5;241m.\u001b[39mreplace(\u001b[38;5;124m'\u001b[39m\u001b[38;5;124m.h5\u001b[39m\u001b[38;5;124m'\u001b[39m,\u001b[38;5;124m'\u001b[39m\u001b[38;5;124m.csv\u001b[39m\u001b[38;5;124m'\u001b[39m)\n",
      "\u001b[0;31mTypeError\u001b[0m: can only concatenate str (not \"float\") to str"
     ]
    }
   ],
   "source": [
    "#For multiple file conversion with File Titles and Timestamps in csv columns\n",
    "name_and_time = pd.read_csv('example_HDF5_times.csv')\n",
    "#accepts input of unix timestamp\n",
    "name_and_time['File Name'].astype('string')\n",
    "name_and_time['Datetime']=pd.to_datetime(name_and_time['Timestamp'], unit='ms')\n",
    "array=name_and_time['Datetime']\n",
    "for i in range(0,299):\n",
    "    file_path='sample_files/'+name_and_time['File Name'].iloc[i]\n",
    "    dataset=BatteryDataset.from_batdata_hdf(file_path)\n",
    "    title=file_path.replace('.h5','.csv')\n",
    "    dataset.raw_data.to_csv(title, sep='\\t')\n",
    "    with open(\"example_HDF5_config.yaml\") as f:\n",
    "        config=yaml.unsafe_load(f)\n",
    "    #pprint.pprint(config)\n",
    "    #converts timestamp to ISO 8601\n",
    "    starttime=array[i].to_pydatetime().isoformat()\n",
    "    config['metadata']['Start Time']=starttime\n",
    "    pprint.pprint(config)\n",
    "    with open(\"example_HDF5_config.yaml\", \"w\") as f:\n",
    "        yaml.dump(config, f)\n",
    "    config_path = (\n",
    "        \"example_HDF5_config.yaml\"\n",
    "    )\n",
    "    file_path = (\n",
    "        title\n",
    "    )\n",
    "    converter = GenericVDFConverter(file_path, config_path)\n",
    "    converter.read_data()\n",
    "    converter.convert()\n",
    "    if(os.path.exists(title) and os.path.isfile(title)):\n",
    "        os.remove(title)\n",
    "end"
   ]
  },
  {
   "cell_type": "code",
   "execution_count": null,
   "id": "4dc76c03",
   "metadata": {},
   "outputs": [],
   "source": [
    "#if input timestamp information is in datetime format, substitute following code\n",
    "starttime=name_and_time['Timestamp'].to_pydatetime().isoformat()"
   ]
  },
  {
   "cell_type": "markdown",
   "id": "6cb862b5-7f30-429c-aca8-e79a16978655",
   "metadata": {},
   "source": [
    "\n",
    "## Inspecting the Results"
   ]
  },
  {
   "cell_type": "code",
   "execution_count": null,
   "id": "6f20e298-63fe-4bbc-bd91-dc35e727df87",
   "metadata": {},
   "outputs": [],
   "source": [
    "# Showing the metadata that was added to the VDF file.\n",
    "munger.header_dict"
   ]
  },
  {
   "cell_type": "code",
   "execution_count": null,
   "id": "0cab3360-c598-4384-81ef-48f73d8f145b",
   "metadata": {
    "tags": []
   },
   "outputs": [],
   "source": [
    "# Take a look at the VDF time data (units included)\n",
    "munger.final_df.head()"
   ]
  },
  {
   "cell_type": "code",
   "execution_count": null,
   "id": "25abb355-c7af-4c17-b913-a8e30361f08c",
   "metadata": {},
   "outputs": [],
   "source": [
    "# Take a look at the raw time data read in from the original file\n",
    "munger.time_df.head()"
   ]
  },
  {
   "cell_type": "code",
   "execution_count": null,
   "id": "51067e91-b2d4-48b2-9e85-0dfea192bcd8",
   "metadata": {},
   "outputs": [],
   "source": [
    "# Take a look at the formatted data (without the added units)\n",
    "munger.formatted_df.head()"
   ]
  },
  {
   "cell_type": "code",
   "execution_count": null,
   "id": "45524c54-f5a0-4723-8ff1-11f3c3c4a1ab",
   "metadata": {},
   "outputs": [],
   "source": [
    "# Visualize the data for a specific column\n",
    "munger.formatted_df.plot(x=\"Test Time\", y=\"Current\")"
   ]
  },
  {
   "cell_type": "code",
   "execution_count": null,
   "id": "50c0a29a-bcd6-45f5-b860-3eb80b7b330c",
   "metadata": {},
   "outputs": [],
   "source": []
  }
 ],
 "metadata": {
  "kernelspec": {
   "display_name": "Python 3 (ipykernel)",
   "language": "python",
   "name": "python3"
  },
  "language_info": {
   "codemirror_mode": {
    "name": "ipython",
    "version": 3
   },
   "file_extension": ".py",
   "mimetype": "text/x-python",
   "name": "python",
   "nbconvert_exporter": "python",
   "pygments_lexer": "ipython3",
   "version": "3.9.12"
  }
 },
 "nbformat": 4,
 "nbformat_minor": 5
}
