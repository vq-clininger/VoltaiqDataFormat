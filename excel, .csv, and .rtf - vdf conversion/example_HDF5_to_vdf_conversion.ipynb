{
 "cells": [
  {
   "cell_type": "markdown",
   "id": "97dddd14-4876-4cbb-a693-18519d0fba7e",
   "metadata": {},
   "source": [
    "# HDF5 to VDF"
   ]
  },
  {
   "cell_type": "markdown",
   "id": "a23b31e7-8e31-4f6c-a8ee-6f25c29242da",
   "metadata": {},
   "source": [
    "## Converting the File"
   ]
  },
  {
   "cell_type": "code",
   "execution_count": 11,
   "id": "f37ace88-4752-433e-ae27-1db0b07d0406",
   "metadata": {},
   "outputs": [],
   "source": [
    "# import the generic munger\n",
    "from util.generic_vdf_munge import GenericVDFMunger"
   ]
  },
  {
   "cell_type": "code",
   "execution_count": 1,
   "id": "ff37d46f",
   "metadata": {},
   "outputs": [],
   "source": [
    "#Import necessary packages for HDF5\n",
    "import h5py\n",
    "import numpy as np\n",
    "import pandas as pd\n",
    "import os\n",
    "from batdata.data import BatteryDataset\n",
    "import yaml\n",
    "import pprint"
   ]
  },
  {
   "cell_type": "code",
   "execution_count": null,
   "id": "68465691",
   "metadata": {},
   "outputs": [],
   "source": [
    "#For single file conversion\n",
    "file_path='sample_files/example_HDF5.h5'\n",
    "config_path='example_HDF5_config.yaml'\n",
    "dataset=BatteryDataset.from_batdata_hdf(file_path)\n",
    "#BatteryDataset.get_metadata_from_hdf5(file_path1)\n",
    "title=file_path+'.csv'\n",
    "dataset.raw_data.to_csv(title, sep='\\t')\n",
    "munger = GenericVDFMunger(file_path, config_path)\n",
    "munger.read_data()\n",
    "munger.convert()\n",
    "if(os.path.exists(title) and os.path.isfile(title)):\n",
    "    os.remove(title)\n",
    "    print(\"file deleted\")\n",
    "else:\n",
    "    print(\"file not found\")"
   ]
  },
  {
   "cell_type": "code",
   "execution_count": null,
   "id": "018db0a1",
   "metadata": {},
   "outputs": [],
   "source": [
    "#For multiple file conversion with File Titles and Timestamps in csv columns\n",
    "name_and_time = pd.read_csv('example_HDF5_times.csv')\n",
    "#accepts input of unix timestamp\n",
    "name_and_time['Datetime']=pd.to_datetime(name_and_time['Timestamp'], unit='ms')\n",
    "array=df['Datetime']\n",
    "for i in range(0,299):\n",
    "    file_path='sample_files/'+name_and_time['File Name'].iloc[i]\n",
    "    dataset=BatteryDataset.from_batdata_hdf(file_path)\n",
    "    title=file_path+'.csv'\n",
    "    dataset.raw_data.to_csv(title, sep='\\t')\n",
    "    with open(\"example_HDF5_config.yaml\") as f:\n",
    "        config=yaml.unsafe_load(f)\n",
    "    #pprint.pprint(config)\n",
    "    #converts timestamp to ISO 8601\n",
    "    starttime=array[i].to_pydatetime().isoformat()\n",
    "    config['metadata']['Start Time']=starttime\n",
    "    pprint.pprint(config)\n",
    "    with open(\"example_HDF5_config.yaml\", \"w\") as f:\n",
    "        yaml.dump(config, f)\n",
    "    config_path = (\n",
    "        \"example_HDF5_config.yaml\"\n",
    "    )\n",
    "    file_path = (\n",
    "        title\n",
    "    )\n",
    "    munger = GenericVDFMunger(file_path, config_path)\n",
    "    munger.read_data()\n",
    "    munger.convert()\n",
    "    if(os.path.exists(title) and os.path.isfile(title)):\n",
    "        os.remove(title)\n",
    "end"
   ]
  },
  {
   "cell_type": "code",
   "execution_count": null,
   "id": "4dc76c03",
   "metadata": {},
   "outputs": [],
   "source": [
    "#if input timestamp information is in datetime format, substitute following code\n",
    "starttime=name_and_time['Timestamp'].to_pydatetime().isoformat()"
   ]
  },
  {
   "cell_type": "markdown",
   "id": "6cb862b5-7f30-429c-aca8-e79a16978655",
   "metadata": {},
   "source": [
    "\n",
    "## Inspecting the Results"
   ]
  },
  {
   "cell_type": "code",
   "execution_count": null,
   "id": "6f20e298-63fe-4bbc-bd91-dc35e727df87",
   "metadata": {},
   "outputs": [],
   "source": [
    "# Showing the metadata that was added to the VDF file.\n",
    "munger.header_dict"
   ]
  },
  {
   "cell_type": "code",
   "execution_count": null,
   "id": "0cab3360-c598-4384-81ef-48f73d8f145b",
   "metadata": {
    "tags": []
   },
   "outputs": [],
   "source": [
    "# Take a look at the VDF time data (units included)\n",
    "munger.final_df.head()"
   ]
  },
  {
   "cell_type": "code",
   "execution_count": null,
   "id": "25abb355-c7af-4c17-b913-a8e30361f08c",
   "metadata": {},
   "outputs": [],
   "source": [
    "# Take a look at the raw time data read in from the original file\n",
    "munger.time_df.head()"
   ]
  },
  {
   "cell_type": "code",
   "execution_count": null,
   "id": "51067e91-b2d4-48b2-9e85-0dfea192bcd8",
   "metadata": {},
   "outputs": [],
   "source": [
    "# Take a look at the formatted data (without the added units)\n",
    "munger.formatted_df.head()"
   ]
  },
  {
   "cell_type": "code",
   "execution_count": null,
   "id": "45524c54-f5a0-4723-8ff1-11f3c3c4a1ab",
   "metadata": {},
   "outputs": [],
   "source": [
    "# Visualize the data for a specific column\n",
    "munger.formatted_df.plot(x=\"Test Time\", y=\"Current\")"
   ]
  },
  {
   "cell_type": "code",
   "execution_count": null,
   "id": "50c0a29a-bcd6-45f5-b860-3eb80b7b330c",
   "metadata": {},
   "outputs": [],
   "source": []
  }
 ],
 "metadata": {
  "kernelspec": {
   "display_name": "Python 3 (ipykernel)",
   "language": "python",
   "name": "python3"
  },
  "language_info": {
   "codemirror_mode": {
    "name": "ipython",
    "version": 3
   },
   "file_extension": ".py",
   "mimetype": "text/x-python",
   "name": "python",
   "nbconvert_exporter": "python",
   "pygments_lexer": "ipython3",
   "version": "3.9.12"
  }
 },
 "nbformat": 4,
 "nbformat_minor": 5
}
